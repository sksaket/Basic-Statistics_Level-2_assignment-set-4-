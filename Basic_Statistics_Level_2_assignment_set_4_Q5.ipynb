{
  "nbformat": 4,
  "nbformat_minor": 0,
  "metadata": {
    "colab": {
      "name": "Basic-Statistics_Level-2_assignment-set-4-Q5.ipynb",
      "provenance": [],
      "toc_visible": true,
      "authorship_tag": "ABX9TyM9JEeyuLDNEj0MrTYFVOoF",
      "include_colab_link": true
    },
    "kernelspec": {
      "name": "python3",
      "display_name": "Python 3"
    },
    "language_info": {
      "name": "python"
    }
  },
  "cells": [
    {
      "cell_type": "markdown",
      "metadata": {
        "id": "view-in-github",
        "colab_type": "text"
      },
      "source": [
        "<a href=\"https://colab.research.google.com/github/sksaket/Basic-Statistics_Level-2_assignment-set-4-/blob/main/Basic_Statistics_Level_2_assignment_set_4_Q5.ipynb\" target=\"_parent\"><img src=\"https://colab.research.google.com/assets/colab-badge.svg\" alt=\"Open In Colab\"/></a>"
      ]
    },
    {
      "cell_type": "markdown",
      "metadata": {
        "id": "LwB73BgxeLwV"
      },
      "source": [
        ""
      ]
    },
    {
      "cell_type": "markdown",
      "metadata": {
        "id": "7ze9dcs4ecNl"
      },
      "source": [
        "*5.\tAn educational startup that helps MBA aspirants write their essays is targeting individuals who have taken GMAT in 2012 and have expressed interest in applying to FT top 20 b-schools. There are 40000 such individuals with an average GMAT score of 720 and a standard deviation of 120. The scores are distributed between 650 and 790 with a very long and thin tail towards the higher end resulting in substantial skewness. Which of the following is likely to be true for randomly chosen samples of aspirants?\n",
        "\n",
        "A.\tThe standard deviation of the scores within any sample will be 120.\n",
        "B.\tThe standard deviation of the mean of across several samples will be 120.\n",
        "C.\tThe mean score in any sample will be 720.\n",
        "D.\tThe average of the mean across several samples will be 720.\n",
        "E.\tThe standard deviation of the mean across several samples will be 0.60*"
      ]
    },
    {
      "cell_type": "code",
      "metadata": {
        "id": "NGwzC-vMeFEJ"
      },
      "source": [
        "import numpy as np\n",
        "from scipy import stats\n",
        "from scipy.stats import norm"
      ],
      "execution_count": 1,
      "outputs": []
    },
    {
      "cell_type": "code",
      "metadata": {
        "id": "2NVcRWkYeUKy"
      },
      "source": [
        "# Apply One-Sample One-Tail z-test"
      ],
      "execution_count": 2,
      "outputs": []
    },
    {
      "cell_type": "code",
      "metadata": {
        "colab": {
          "base_uri": "https://localhost:8080/"
        },
        "id": "6kTAzshoeRw6",
        "outputId": "e07ff71e-3233-49d1-f992-a47de3df37b3"
      },
      "source": [
        "z_scores=(0.046-0.05)/(np.sqrt((0.05*(1-0.05))/2000))\n",
        "z_scores"
      ],
      "execution_count": 3,
      "outputs": [
        {
          "output_type": "execute_result",
          "data": {
            "text/plain": [
              "-0.820782681668124"
            ]
          },
          "metadata": {},
          "execution_count": 3
        }
      ]
    },
    {
      "cell_type": "code",
      "metadata": {
        "id": "6_iYdWqbeR2m"
      },
      "source": [
        "# Find Probability assuming null hyposthesis, so as to compare with Type-1 error α = 0.05"
      ],
      "execution_count": 4,
      "outputs": []
    },
    {
      "cell_type": "code",
      "metadata": {
        "colab": {
          "base_uri": "https://localhost:8080/"
        },
        "id": "YCpgtevTeR4p",
        "outputId": "43a2920a-021f-43f1-c138-be637678fdf1"
      },
      "source": [
        "p_value=1-stats.norm.cdf(abs(z_scores))\n",
        "p_value"
      ],
      "execution_count": 5,
      "outputs": [
        {
          "output_type": "execute_result",
          "data": {
            "text/plain": [
              "0.20588503245107104"
            ]
          },
          "metadata": {},
          "execution_count": 5
        }
      ]
    }
  ]
}